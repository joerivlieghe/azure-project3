{
 "cells": [
  {
   "cell_type": "code",
   "execution_count": 0,
   "metadata": {
    "application/vnd.databricks.v1+cell": {
     "cellMetadata": {
      "byteLimit": 2048000,
      "rowLimit": 10000
     },
     "inputWidgets": {},
     "nuid": "04bd4921-1c8e-4382-be5f-1f7ee313be90",
     "showTitle": false,
     "title": ""
    }
   },
   "outputs": [],
   "source": [
    "from pyspark.sql import SparkSession\n",
    "from pyspark.sql.functions import col, expr"
   ]
  },
  {
   "cell_type": "code",
   "execution_count": 0,
   "metadata": {
    "application/vnd.databricks.v1+cell": {
     "cellMetadata": {
      "byteLimit": 2048000,
      "rowLimit": 10000
     },
     "inputWidgets": {},
     "nuid": "6e08bb49-f120-41ce-89ee-5a3871e6387b",
     "showTitle": false,
     "title": ""
    }
   },
   "outputs": [],
   "source": [
    "#fact_payment\n",
    "\n",
    "payments = spark.table(\"default.staging_payments\")"
   ]
  },
  {
   "cell_type": "code",
   "execution_count": 0,
   "metadata": {
    "application/vnd.databricks.v1+cell": {
     "cellMetadata": {
      "byteLimit": 2048000,
      "rowLimit": 10000
     },
     "inputWidgets": {},
     "nuid": "0923b23d-1e78-4f58-a738-795458f7a561",
     "showTitle": false,
     "title": ""
    }
   },
   "outputs": [
    {
     "output_type": "display_data",
     "data": {
      "text/html": [
       "<style scoped>\n",
       "  .table-result-container {\n",
       "    max-height: 300px;\n",
       "    overflow: auto;\n",
       "  }\n",
       "  table, th, td {\n",
       "    border: 1px solid black;\n",
       "    border-collapse: collapse;\n",
       "  }\n",
       "  th, td {\n",
       "    padding: 5px;\n",
       "  }\n",
       "  th {\n",
       "    text-align: left;\n",
       "  }\n",
       "</style><div class='table-result-container'><table class='table-result'><thead style='background-color: white'><tr><th>payment_id</th><th>date</th><th>amount</th><th>rider_id</th></tr></thead><tbody><tr><td>1</td><td>2019-05-01</td><td>9.0</td><td>1000</td></tr><tr><td>2</td><td>2019-06-01</td><td>9.0</td><td>1000</td></tr><tr><td>3</td><td>2019-07-01</td><td>9.0</td><td>1000</td></tr><tr><td>4</td><td>2019-08-01</td><td>9.0</td><td>1000</td></tr><tr><td>5</td><td>2019-09-01</td><td>9.0</td><td>1000</td></tr></tbody></table></div>"
      ]
     },
     "metadata": {
      "application/vnd.databricks.v1+output": {
       "addedWidgets": {},
       "aggData": [],
       "aggError": "",
       "aggOverflow": false,
       "aggSchema": [],
       "aggSeriesLimitReached": false,
       "aggType": "",
       "arguments": {},
       "columnCustomDisplayInfos": {},
       "data": [
        [
         1,
         "2019-05-01",
         9.0,
         1000
        ],
        [
         2,
         "2019-06-01",
         9.0,
         1000
        ],
        [
         3,
         "2019-07-01",
         9.0,
         1000
        ],
        [
         4,
         "2019-08-01",
         9.0,
         1000
        ],
        [
         5,
         "2019-09-01",
         9.0,
         1000
        ]
       ],
       "datasetInfos": [],
       "dbfsResultPath": null,
       "isJsonSchema": true,
       "metadata": {},
       "overflow": false,
       "plotOptions": {
        "customPlotOptions": {},
        "displayType": "table",
        "pivotAggregation": null,
        "pivotColumns": null,
        "xColumns": null,
        "yColumns": null
       },
       "removedWidgets": [],
       "schema": [
        {
         "metadata": "{}",
         "name": "payment_id",
         "type": "\"integer\""
        },
        {
         "metadata": "{\"__detected_date_formats\":\"yyyy-M-d\"}",
         "name": "date",
         "type": "\"date\""
        },
        {
         "metadata": "{}",
         "name": "amount",
         "type": "\"double\""
        },
        {
         "metadata": "{}",
         "name": "rider_id",
         "type": "\"integer\""
        }
       ],
       "type": "table"
      }
     },
     "output_type": "display_data"
    }
   ],
   "source": [
    "display(payments.limit(5))"
   ]
  },
  {
   "cell_type": "code",
   "execution_count": 0,
   "metadata": {
    "application/vnd.databricks.v1+cell": {
     "cellMetadata": {
      "byteLimit": 2048000,
      "rowLimit": 10000
     },
     "inputWidgets": {},
     "nuid": "a5218d59-9244-42bd-9afb-47d637eca172",
     "showTitle": false,
     "title": ""
    }
   },
   "outputs": [],
   "source": [
    "# Write data to fact_payments\n",
    "spark.sql(\"drop table if exists default.fact_payments\")\n",
    "payments.dropDuplicates([\"payment_id\"]).write.format(\"delta\").mode(\"overwrite\").saveAsTable(\"default.fact_payments\")"
   ]
  },
  {
   "cell_type": "code",
   "execution_count": 0,
   "metadata": {
    "application/vnd.databricks.v1+cell": {
     "cellMetadata": {
      "byteLimit": 2048000,
      "rowLimit": 10000
     },
     "inputWidgets": {},
     "nuid": "f7224342-50fc-4192-b477-5e6756ac7244",
     "showTitle": false,
     "title": ""
    }
   },
   "outputs": [],
   "source": [
    "#dim_rider\n",
    "\n",
    "riders = spark.table(\"default.staging_riders\")"
   ]
  },
  {
   "cell_type": "code",
   "execution_count": 0,
   "metadata": {
    "application/vnd.databricks.v1+cell": {
     "cellMetadata": {
      "byteLimit": 2048000,
      "rowLimit": 10000
     },
     "inputWidgets": {},
     "nuid": "961881dc-14bf-47a1-9c60-cac9b1a0be9a",
     "showTitle": false,
     "title": ""
    }
   },
   "outputs": [
    {
     "output_type": "display_data",
     "data": {
      "text/html": [
       "<style scoped>\n",
       "  .table-result-container {\n",
       "    max-height: 300px;\n",
       "    overflow: auto;\n",
       "  }\n",
       "  table, th, td {\n",
       "    border: 1px solid black;\n",
       "    border-collapse: collapse;\n",
       "  }\n",
       "  th, td {\n",
       "    padding: 5px;\n",
       "  }\n",
       "  th {\n",
       "    text-align: left;\n",
       "  }\n",
       "</style><div class='table-result-container'><table class='table-result'><thead style='background-color: white'><tr><th>rider_id</th><th>first_name</th><th>last_name</th><th>address</th><th>birthday</th><th>account_start_date</th><th>account_end_date</th><th>is_member</th></tr></thead><tbody><tr><td>1000</td><td>Diana</td><td>Clark</td><td>1200 Alyssa Squares</td><td>1989-02-13</td><td>2019-04-23</td><td>null</td><td>true</td></tr><tr><td>1001</td><td>Jennifer</td><td>Smith</td><td>397 Diana Ferry</td><td>1976-08-10</td><td>2019-11-01</td><td>2020-09-01</td><td>true</td></tr><tr><td>1002</td><td>Karen</td><td>Smith</td><td>644 Brittany Row Apt. 097</td><td>1998-08-10</td><td>2022-02-04</td><td>null</td><td>true</td></tr><tr><td>1003</td><td>Bryan</td><td>Roberts</td><td>996 Dickerson Turnpike</td><td>1999-03-29</td><td>2019-08-26</td><td>null</td><td>false</td></tr><tr><td>1004</td><td>Jesse</td><td>Middleton</td><td>7009 Nathan Expressway</td><td>1969-04-11</td><td>2019-09-14</td><td>null</td><td>true</td></tr></tbody></table></div>"
      ]
     },
     "metadata": {
      "application/vnd.databricks.v1+output": {
       "addedWidgets": {},
       "aggData": [],
       "aggError": "",
       "aggOverflow": false,
       "aggSchema": [],
       "aggSeriesLimitReached": false,
       "aggType": "",
       "arguments": {},
       "columnCustomDisplayInfos": {},
       "data": [
        [
         1000,
         "Diana",
         "Clark",
         "1200 Alyssa Squares",
         "1989-02-13",
         "2019-04-23",
         null,
         true
        ],
        [
         1001,
         "Jennifer",
         "Smith",
         "397 Diana Ferry",
         "1976-08-10",
         "2019-11-01",
         "2020-09-01",
         true
        ],
        [
         1002,
         "Karen",
         "Smith",
         "644 Brittany Row Apt. 097",
         "1998-08-10",
         "2022-02-04",
         null,
         true
        ],
        [
         1003,
         "Bryan",
         "Roberts",
         "996 Dickerson Turnpike",
         "1999-03-29",
         "2019-08-26",
         null,
         false
        ],
        [
         1004,
         "Jesse",
         "Middleton",
         "7009 Nathan Expressway",
         "1969-04-11",
         "2019-09-14",
         null,
         true
        ]
       ],
       "datasetInfos": [],
       "dbfsResultPath": null,
       "isJsonSchema": true,
       "metadata": {},
       "overflow": false,
       "plotOptions": {
        "customPlotOptions": {},
        "displayType": "table",
        "pivotAggregation": null,
        "pivotColumns": null,
        "xColumns": null,
        "yColumns": null
       },
       "removedWidgets": [],
       "schema": [
        {
         "metadata": "{}",
         "name": "rider_id",
         "type": "\"integer\""
        },
        {
         "metadata": "{}",
         "name": "first_name",
         "type": "\"string\""
        },
        {
         "metadata": "{}",
         "name": "last_name",
         "type": "\"string\""
        },
        {
         "metadata": "{}",
         "name": "address",
         "type": "\"string\""
        },
        {
         "metadata": "{\"__detected_date_formats\":\"yyyy-M-d\"}",
         "name": "birthday",
         "type": "\"date\""
        },
        {
         "metadata": "{\"__detected_date_formats\":\"yyyy-M-d\"}",
         "name": "account_start_date",
         "type": "\"date\""
        },
        {
         "metadata": "{\"__detected_date_formats\":\"yyyy-M-d\"}",
         "name": "account_end_date",
         "type": "\"date\""
        },
        {
         "metadata": "{}",
         "name": "is_member",
         "type": "\"boolean\""
        }
       ],
       "type": "table"
      }
     },
     "output_type": "display_data"
    }
   ],
   "source": [
    "display(riders.limit(5))"
   ]
  },
  {
   "cell_type": "code",
   "execution_count": 0,
   "metadata": {
    "application/vnd.databricks.v1+cell": {
     "cellMetadata": {
      "byteLimit": 2048000,
      "rowLimit": 10000
     },
     "inputWidgets": {},
     "nuid": "630aa437-f4f3-435f-acd8-5bf2b687ef57",
     "showTitle": false,
     "title": ""
    }
   },
   "outputs": [],
   "source": [
    "# Write data to dim_rider\n",
    "spark.sql(\"drop table if exists default.dim_rider\")\n",
    "riders.dropDuplicates([\"rider_id\"]).write.format(\"delta\").mode(\"overwrite\").saveAsTable(\"default.dim_rider\")"
   ]
  },
  {
   "cell_type": "code",
   "execution_count": 0,
   "metadata": {
    "application/vnd.databricks.v1+cell": {
     "cellMetadata": {
      "byteLimit": 2048000,
      "rowLimit": 10000
     },
     "inputWidgets": {},
     "nuid": "b7c08078-e7a5-4065-a617-d679e436a206",
     "showTitle": false,
     "title": ""
    }
   },
   "outputs": [],
   "source": [
    "#dim_stations"
   ]
  },
  {
   "cell_type": "code",
   "execution_count": 0,
   "metadata": {
    "application/vnd.databricks.v1+cell": {
     "cellMetadata": {
      "byteLimit": 2048000,
      "rowLimit": 10000
     },
     "inputWidgets": {},
     "nuid": "4c6f73cd-0e9c-4e5a-9276-a81f343427f8",
     "showTitle": false,
     "title": ""
    }
   },
   "outputs": [],
   "source": [
    "stations = spark.table(\"default.staging_stations\")"
   ]
  },
  {
   "cell_type": "code",
   "execution_count": 0,
   "metadata": {
    "application/vnd.databricks.v1+cell": {
     "cellMetadata": {
      "byteLimit": 2048000,
      "rowLimit": 10000
     },
     "inputWidgets": {},
     "nuid": "71d5a7e2-e121-4c89-ba47-c4bdca20a5c1",
     "showTitle": false,
     "title": ""
    }
   },
   "outputs": [
    {
     "output_type": "display_data",
     "data": {
      "text/html": [
       "<style scoped>\n",
       "  .table-result-container {\n",
       "    max-height: 300px;\n",
       "    overflow: auto;\n",
       "  }\n",
       "  table, th, td {\n",
       "    border: 1px solid black;\n",
       "    border-collapse: collapse;\n",
       "  }\n",
       "  th, td {\n",
       "    padding: 5px;\n",
       "  }\n",
       "  th {\n",
       "    text-align: left;\n",
       "  }\n",
       "</style><div class='table-result-container'><table class='table-result'><thead style='background-color: white'><tr><th>station_id</th><th>name</th><th>latitude</th><th>longitude</th></tr></thead><tbody><tr><td>525</td><td>Glenwood Ave & Touhy Ave</td><td>42.012701</td><td>-87.66605799999999</td></tr><tr><td>KA1503000012</td><td>Clark St & Lake St</td><td>41.88579466666667</td><td>-87.63110066666668</td></tr><tr><td>637</td><td>Wood St & Chicago Ave</td><td>41.895634</td><td>-87.672069</td></tr><tr><td>13216</td><td>State St & 33rd St</td><td>41.8347335</td><td>-87.6258275</td></tr><tr><td>18003</td><td>Fairbanks St & Superior St</td><td>41.89580766666667</td><td>-87.62025316666669</td></tr></tbody></table></div>"
      ]
     },
     "metadata": {
      "application/vnd.databricks.v1+output": {
       "addedWidgets": {},
       "aggData": [],
       "aggError": "",
       "aggOverflow": false,
       "aggSchema": [],
       "aggSeriesLimitReached": false,
       "aggType": "",
       "arguments": {},
       "columnCustomDisplayInfos": {},
       "data": [
        [
         "525",
         "Glenwood Ave & Touhy Ave",
         42.012701,
         -87.66605799999999
        ],
        [
         "KA1503000012",
         "Clark St & Lake St",
         41.88579466666667,
         -87.63110066666668
        ],
        [
         "637",
         "Wood St & Chicago Ave",
         41.895634,
         -87.672069
        ],
        [
         "13216",
         "State St & 33rd St",
         41.8347335,
         -87.6258275
        ],
        [
         "18003",
         "Fairbanks St & Superior St",
         41.89580766666667,
         -87.62025316666669
        ]
       ],
       "datasetInfos": [],
       "dbfsResultPath": null,
       "isJsonSchema": true,
       "metadata": {},
       "overflow": false,
       "plotOptions": {
        "customPlotOptions": {},
        "displayType": "table",
        "pivotAggregation": null,
        "pivotColumns": null,
        "xColumns": null,
        "yColumns": null
       },
       "removedWidgets": [],
       "schema": [
        {
         "metadata": "{}",
         "name": "station_id",
         "type": "\"string\""
        },
        {
         "metadata": "{}",
         "name": "name",
         "type": "\"string\""
        },
        {
         "metadata": "{}",
         "name": "latitude",
         "type": "\"double\""
        },
        {
         "metadata": "{}",
         "name": "longitude",
         "type": "\"double\""
        }
       ],
       "type": "table"
      }
     },
     "output_type": "display_data"
    }
   ],
   "source": [
    "display(stations.limit(5))"
   ]
  },
  {
   "cell_type": "code",
   "execution_count": 0,
   "metadata": {
    "application/vnd.databricks.v1+cell": {
     "cellMetadata": {
      "byteLimit": 2048000,
      "rowLimit": 10000
     },
     "inputWidgets": {},
     "nuid": "143893cc-256b-42ab-92e2-32ccb4c400eb",
     "showTitle": false,
     "title": ""
    }
   },
   "outputs": [],
   "source": [
    "# Write data to dim_station\n",
    "spark.sql(\"drop table if exists default.dim_station\")\n",
    "stations.dropDuplicates([\"station_id\"]).write.format(\"delta\").mode(\"overwrite\").saveAsTable(\"default.dim_station\")"
   ]
  },
  {
   "cell_type": "code",
   "execution_count": 0,
   "metadata": {
    "application/vnd.databricks.v1+cell": {
     "cellMetadata": {
      "byteLimit": 2048000,
      "rowLimit": 10000
     },
     "inputWidgets": {},
     "nuid": "701fa2ed-d13b-45ee-b500-1be48c1de48a",
     "showTitle": false,
     "title": ""
    }
   },
   "outputs": [
    {
     "output_type": "stream",
     "name": "stdout",
     "output_type": "stream",
     "text": [
      "+--------+----------------+-------------+-------------------+-------------------+----------------+--------------+----------+---------+--------------------+----------+------------------+----------------+---------+------------------+------------------+\n|rider_id|         trip_id|rideable_type|           start_at|           ended_at|start_station_id|end_station_id|first_name|last_name|             address|  birthday|account_start_date|account_end_date|is_member|          duration|         rider_age|\n+--------+----------------+-------------+-------------------+-------------------+----------------+--------------+----------+---------+--------------------+----------+------------------+----------------+---------+------------------+------------------+\n|   71934|89E7AA6C29227EFF| classic_bike|2021-02-12 16:14:56|2021-02-12 16:21:43|             525|           660|   Ricardo|    Grant|34542 Smith Exten...|1983-08-26|        2020-12-27|            null|     true| 6.783333333333333| 37.49500558092338|\n|   47854|0FEFDE2603568365| classic_bike|2021-02-14 17:52:38|2021-02-14 18:12:09|             525|         16806|    Joshua|Patterson| 323 Johnson Gateway|1982-12-10|        2019-12-19|            null|     true|19.516666666666666| 38.21025995687468|\n|   70870|E6159D746B2DBB91|electric_bike|2021-02-09 19:10:18|2021-02-09 19:19:10|    KA1503000012|  TA1305000029|   Matthew|   Cherry|0684 Vasquez Key ...|1987-12-22|        2020-12-19|            null|     true| 8.866666666666667| 33.16109265601218|\n|   58974|B32D3199F1C2E75B| classic_bike|2021-02-02 17:49:41|2021-02-02 17:54:06|             637|  TA1305000034|     David|    Smith|7018 Smith Throug...|2002-01-07|        2021-06-23|            null|    false| 4.416666666666667|19.086966673008625|\n|   39608|83E463F23575F4BF|electric_bike|2021-02-23 15:07:23|2021-02-23 15:22:37|           13216|  TA1309000055|     James|    Evans|83825 Susan Cove ...|1949-06-15|        2020-07-13|            null|     true|15.233333333333333| 71.74419212962962|\n|   36267|BDAA7E3494E8D545|electric_bike|2021-02-24 15:43:33|2021-02-24 15:49:05|           18003|  KP1705001026|     David| Castillo|3195 Brooke Vista...|1994-01-07|        2021-11-17|      2021-11-01|     true| 5.533333333333333|27.152480117960422|\n|   50104|A772742351171257| classic_bike|2021-02-01 17:47:42|2021-02-01 17:48:33|    KP1705001026|  KP1705001026|    Thomas| Mcdaniel|6819 Peck Burgs S...|1987-06-22|        2016-10-04|      2021-01-01|     true|              0.85|33.640387557077624|\n|   19618|295476889D9B79F8| classic_bike|2021-02-11 18:33:53|2021-02-11 18:35:09|           18003|         18003|   Loretta|   Howell|974 Smith Well Ap...|1997-02-14|        2018-05-22|      2019-11-01|     true|1.2666666666666666|24.010338438609843|\n|   16732|362087194BA4CC9A| classic_bike|2021-02-27 15:13:39|2021-02-27 15:36:36|    KP1705001026|  KP1705001026| Katherine|  Collier|27890 Adrian Junc...|2001-07-01|        2016-11-25|      2017-02-01|    false|             22.95|19.675710901826484|\n|   57068|21630F715038CCB0| classic_bike|2021-02-20 08:59:42|2021-02-20 09:17:04|    KP1705001026|  KP1705001026| Cassandra|       Li|     306 Pierce Port|1973-11-28|        2018-12-23|            null|    false|17.366666666666667|47.264040525114154|\n|   32712|A977EB7FE7F5CD3A| classic_bike|2021-02-20 08:58:16|2021-02-20 08:58:41|    KP1705001026|  KP1705001026|    Willie|    Gomez|3385 Reeves Valle...|2003-09-04|        2019-08-14|      2021-09-01|     true|0.4166666666666667| 17.47773642820903|\n|   23227|8B868B03D6753C2A| classic_bike|2021-02-20 16:45:11|2021-02-20 16:59:47|    KP1705001026|  KP1705001026|    Joshua|   Lawson|  06719 Cassidy Road|1995-02-16|        2020-03-12|            null|    false|              14.6|26.032049435565703|\n|   73221|BD331D658B9D2C31| classic_bike|2021-02-18 13:21:03|2021-02-18 13:25:20|             525|           520|     Brett|     Hess|494 Richard Summi...|2005-08-24|        2021-08-17|            null|     true| 4.283333333333333|15.500154204718417|\n|   22163|8DFEA9BAFE6BAA62| classic_bike|2021-02-26 17:40:05|2021-02-26 17:42:49|           13253|  TA1309000050|   Jessica|   Pierce|83122 Young Pines...|1978-05-06|        2020-10-09|            null|    false|2.7333333333333334|42.843112791730086|\n|    7566|27BE9F6E67AFD86C| classic_bike|2021-02-06 14:40:25|2021-02-06 14:55:50|             525|         15578|  Courtney| Thompson|104 Cunningham Gr...|1999-11-12|        2021-07-17|      2021-10-01|     true|15.416666666666666|21.253729864282093|\n|   71588|9B790D47A0A0F7F1| classic_bike|2021-02-19 23:25:40|2021-02-20 00:10:00|    KA1503000044|  KA1504000142| Alejandra| Williams|811 Andrea Fall A...|2001-06-19|        2019-04-13|            null|    false|44.333333333333336|19.687605910705226|\n|   38661|3C2DF72600B1DE6C| classic_bike|2021-02-18 23:20:10|2021-02-19 00:01:39|    KA1503000044|  KA1504000142|  Kimberly|    Lopez|  56629 Justin Ports|1986-12-30|        2019-07-11|            null|     true|41.483333333333334| 34.16430777524099|\n|   64751|48A8D07ED9C7065C| classic_bike|2021-02-20 23:35:29|2021-02-21 00:17:18|    KA1503000044|  KA1504000142|   Richard|    Adams|     163 John Radial|1998-01-05|        2021-09-16|            null|     true| 41.81666666666667|23.145158834348045|\n|   10721|BBFF2AAA0A3A1A26|electric_bike|2021-02-02 15:48:52|2021-02-02 16:03:40|    KA1504000140|         17660| Johnathan|   Taylor|2351 Norton Viadu...|1995-11-15|        2021-08-24|            null|     true|              14.8|25.237421740233383|\n|   13281|030723CBA8CF05E7| classic_bike|2021-02-23 07:44:12|2021-02-23 07:48:57|    TA1305000032|         15542|     Tanya|   Lester| 094 Richards Cliffs|1999-03-30|        2022-01-10|            null|    false|              4.75| 21.92143112633181|\n+--------+----------------+-------------+-------------------+-------------------+----------------+--------------+----------+---------+--------------------+----------+------------------+----------------+---------+------------------+------------------+\nonly showing top 20 rows\n\n"
     ]
    }
   ],
   "source": [
    "# fact_trips table\n",
    "from pyspark.sql.functions import unix_timestamp\n",
    "\n",
    "# Read data from tables\n",
    "table1 = spark.read.format(\"delta\").table(\"staging_trips\")\n",
    "table2 = spark.read.format(\"delta\").table(\"dim_rider\")\n",
    "\n",
    "# Perform the join\n",
    "joined_df = table1.join(table2, \"rider_id\")\n",
    "\n",
    "# Calculate duration column\n",
    "duration_df = joined_df.withColumn(\"duration\", (unix_timestamp(col(\"ended_at\")) - unix_timestamp(col(\"start_at\")))/60)\n",
    "\n",
    "#Calculate Rider Age column\n",
    "rider_age_df = duration_df.withColumn(\"rider_age\",(unix_timestamp(col(\"start_at\")) - unix_timestamp(col(\"birthday\")))/3600/24/365)\n",
    "\n",
    "# Show the resulting DataFrame\n",
    "rider_age_df.show()"
   ]
  },
  {
   "cell_type": "code",
   "execution_count": 0,
   "metadata": {
    "application/vnd.databricks.v1+cell": {
     "cellMetadata": {
      "byteLimit": 2048000,
      "rowLimit": 10000
     },
     "inputWidgets": {},
     "nuid": "ba486fd4-46f8-4851-bce8-ced5428fe1c4",
     "showTitle": false,
     "title": ""
    }
   },
   "outputs": [],
   "source": [
    "rider_age_df.write.format(\"delta\").mode(\"overwrite\").saveAsTable(\"default.fact_trip\")"
   ]
  },
  {
   "cell_type": "code",
   "execution_count": 0,
   "metadata": {
    "application/vnd.databricks.v1+cell": {
     "cellMetadata": {
      "byteLimit": 2048000,
      "rowLimit": 10000
     },
     "inputWidgets": {},
     "nuid": "ed8fbb69-7877-4836-93a2-5a768c1d3508",
     "showTitle": false,
     "title": ""
    }
   },
   "outputs": [],
   "source": [
    "# date dimension table\n",
    "\n",
    "from pyspark.sql.functions import min, max\n",
    "\n",
    "min_max_dates = table1.select(min(\"start_at\").alias(\"min_date\"), max(\"ended_at\").alias(\"max_date\")).first()\n",
    "min_date = min_max_dates[\"min_date\"]\n",
    "max_date = min_max_dates[\"max_date\"]"
   ]
  },
  {
   "cell_type": "code",
   "execution_count": 0,
   "metadata": {
    "application/vnd.databricks.v1+cell": {
     "cellMetadata": {
      "byteLimit": 2048000,
      "rowLimit": 10000
     },
     "inputWidgets": {},
     "nuid": "bdcadf93-f0d5-4acf-b342-ae55df6ba503",
     "showTitle": false,
     "title": ""
    }
   },
   "outputs": [],
   "source": [
    "from pyspark.sql.functions import sequence, to_date\n",
    "\n",
    "date_range_df = spark.range(0, (max_date - min_date).days + 1).selectExpr(f\"date_add('{min_date}', cast(id as int)) as date\")"
   ]
  },
  {
   "cell_type": "code",
   "execution_count": 0,
   "metadata": {
    "application/vnd.databricks.v1+cell": {
     "cellMetadata": {
      "byteLimit": 2048000,
      "rowLimit": 10000
     },
     "inputWidgets": {},
     "nuid": "dd2e693e-bd09-4aac-a218-ba599ff3ec8d",
     "showTitle": false,
     "title": ""
    }
   },
   "outputs": [
    {
     "output_type": "stream",
     "name": "stdout",
     "output_type": "stream",
     "text": [
      "+----------+----+-------+-----+------------+-----------+------------+\n|      date|year|quarter|month|day_of_month|day_of_week|week_of_year|\n+----------+----+-------+-----+------------+-----------+------------+\n|2021-02-01|2021|      1|   02|          01|        Mon|           5|\n|2021-02-02|2021|      1|   02|          02|        Tue|           5|\n|2021-02-03|2021|      1|   02|          03|        Wed|           5|\n|2021-02-04|2021|      1|   02|          04|        Thu|           5|\n|2021-02-05|2021|      1|   02|          05|        Fri|           5|\n|2021-02-06|2021|      1|   02|          06|        Sat|           5|\n|2021-02-07|2021|      1|   02|          07|        Sun|           5|\n|2021-02-08|2021|      1|   02|          08|        Mon|           6|\n|2021-02-09|2021|      1|   02|          09|        Tue|           6|\n|2021-02-10|2021|      1|   02|          10|        Wed|           6|\n|2021-02-11|2021|      1|   02|          11|        Thu|           6|\n|2021-02-12|2021|      1|   02|          12|        Fri|           6|\n|2021-02-13|2021|      1|   02|          13|        Sat|           6|\n|2021-02-14|2021|      1|   02|          14|        Sun|           6|\n|2021-02-15|2021|      1|   02|          15|        Mon|           7|\n|2021-02-16|2021|      1|   02|          16|        Tue|           7|\n|2021-02-17|2021|      1|   02|          17|        Wed|           7|\n|2021-02-18|2021|      1|   02|          18|        Thu|           7|\n|2021-02-19|2021|      1|   02|          19|        Fri|           7|\n|2021-02-20|2021|      1|   02|          20|        Sat|           7|\n+----------+----+-------+-----+------------+-----------+------------+\nonly showing top 20 rows\n\n"
     ]
    }
   ],
   "source": [
    "from pyspark.sql.functions import date_format\n",
    "from pyspark.sql.functions import weekofyear\n",
    "\n",
    "date_dimension_df = date_range_df.select(\n",
    "    \"date\",\n",
    "    date_format(\"date\", \"yyyy\").alias(\"year\"),\n",
    "    date_format(\"date\", \"Q\").alias(\"quarter\"),\n",
    "    date_format(\"date\", \"MM\").alias(\"month\"),\n",
    "    date_format(\"date\", \"dd\").alias(\"day_of_month\"),\n",
    "    date_format(\"date\", \"E\").alias(\"day_of_week\"),\n",
    "    #date_format(\"date\", \"w-yyyy\").alias(\"WeekOfYear\")\n",
    "    \n",
    ")\n",
    "date_dimension_df = date_dimension_df.withColumn(\"week_of_year\", weekofyear(\"date\"))\n",
    "date_dimension_df.show()"
   ]
  },
  {
   "cell_type": "code",
   "execution_count": 0,
   "metadata": {
    "application/vnd.databricks.v1+cell": {
     "cellMetadata": {
      "byteLimit": 2048000,
      "rowLimit": 10000
     },
     "inputWidgets": {},
     "nuid": "1807abb9-03e3-48f3-9071-50b0053ca946",
     "showTitle": false,
     "title": ""
    }
   },
   "outputs": [],
   "source": [
    "date_dimension_df.write.format(\"delta\").mode(\"overwrite\").saveAsTable(\"default.dim_date\")"
   ]
  }
 ],
 "metadata": {
  "application/vnd.databricks.v1+notebook": {
   "dashboards": [],
   "language": "python",
   "notebookMetadata": {
    "pythonIndentUnit": 4
   },
   "notebookName": "project3_gold_transform",
   "widgets": {}
  },
  "language_info": {
   "name": "python"
  },
  "orig_nbformat": 4
 },
 "nbformat": 4,
 "nbformat_minor": 0
}
